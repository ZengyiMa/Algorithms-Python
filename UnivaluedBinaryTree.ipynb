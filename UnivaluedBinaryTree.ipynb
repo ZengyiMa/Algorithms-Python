{
 "cells": [
  {
   "cell_type": "markdown",
   "metadata": {},
   "source": [
    "# Univalued Binary Tree\n",
    "A binary tree is univalued if every node in the tree has the same value.\n",
    "\n",
    "Return true if and only if the given tree is univalued.\n",
    "\n",
    "Example 1:\n",
    "\n",
    "![](https://assets.leetcode.com/uploads/2018/12/28/unival_bst_1.png)\n",
    "\n",
    "Input: [1,1,1,1,1,null,1]\n",
    "\n",
    "Output: true\n",
    "\n",
    "\n",
    "Example 2:\n",
    "\n",
    "![](https://assets.leetcode.com/uploads/2018/12/28/unival_bst_2.png)\n",
    "\n",
    "\n",
    "Input: [2,2,2,5,2]\n",
    "\n",
    "Output: false\n",
    " \n",
    "\n",
    "Note:\n",
    "\n",
    "The number of nodes in the given tree will be in the range [1, 100].\n",
    "Each node's value will be an integer in the range [0, 99].\n",
    "\n",
    "\n",
    "[Univalued Binary Tree](https://leetcode.com/problems/univalued-binary-tree/)\n"
   ]
  },
  {
   "cell_type": "code",
   "execution_count": null,
   "metadata": {},
   "outputs": [],
   "source": [
    "# Definition for a binary tree node.\n",
    "# class TreeNode:\n",
    "#     def __init__(self, x):\n",
    "#         self.val = x\n",
    "#         self.left = None\n",
    "#         self.right = None\n",
    "\n",
    "class Solution:\n",
    "    def isUnivalTree(self, root):\n",
    "        \"\"\"\n",
    "        :type root: TreeNode\n",
    "        :rtype: bool\n",
    "        \"\"\"\n",
    "        return self.recursiveTree(root, root.val)\n",
    "        \n",
    "    def recursiveTree(self, node, value):\n",
    "        if node is None:\n",
    "            return True\n",
    "        if node.val != value:\n",
    "            return False\n",
    "        return self.recursiveTree(node.left, value) and self.recursiveTree(node.right, value)        "
   ]
  }
 ],
 "metadata": {
  "kernelspec": {
   "display_name": "Python 3",
   "language": "python",
   "name": "python3"
  },
  "language_info": {
   "codemirror_mode": {
    "name": "ipython",
    "version": 3
   },
   "file_extension": ".py",
   "mimetype": "text/x-python",
   "name": "python",
   "nbconvert_exporter": "python",
   "pygments_lexer": "ipython3",
   "version": "3.7.1"
  }
 },
 "nbformat": 4,
 "nbformat_minor": 2
}
