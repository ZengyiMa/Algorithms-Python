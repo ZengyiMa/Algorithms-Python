{
 "cells": [
  {
   "cell_type": "markdown",
   "metadata": {},
   "source": [
    "# Squares of a Sorted Array\n",
    "\n",
    "Given an array of integers A sorted in non-decreasing order, return an array of the squares of each number, also in sorted non-decreasing order.\n",
    "\n",
    " \n",
    "```\n",
    "Example 1:\n",
    "\n",
    "Input: [-4,-1,0,3,10]\n",
    "Output: [0,1,9,16,100]\n",
    "Example 2:\n",
    "\n",
    "Input: [-7,-3,2,3,11]\n",
    "Output: [4,9,9,49,121]\n",
    "```\n",
    "\n",
    "Note:\n",
    "\n",
    "1 <= A.length <= 10000\n",
    "\n",
    "-10000 <= A[i] <= 10000\n",
    "\n",
    "A is sorted in non-decreasing order.\n",
    "\n",
    "[Squares of a Sorted Array](https://leetcode.com/problems/squares-of-a-sorted-array/)"
   ]
  },
  {
   "cell_type": "code",
   "execution_count": null,
   "metadata": {},
   "outputs": [],
   "source": [
    "class Solution:\n",
    "    def sortedSquares(self, A):\n",
    "        \"\"\"\n",
    "        :type A: List[int]\n",
    "        :rtype: List[int]\n",
    "        \"\"\"\n",
    "        result = []\n",
    "        for a in A:\n",
    "            result.append(a ** 2)\n",
    "        self.quickSort(0, len(A) - 1, result)\n",
    "        return result\n",
    "    \n",
    "    def quickSort(self, start, end, a):\n",
    "        if start < end:\n",
    "            l = start\n",
    "            r = end\n",
    "            p = a[l]\n",
    "            while l < r:\n",
    "                while l < r and a[r] > p:\n",
    "                    r -= 1\n",
    "                if l < r:\n",
    "                    a[l] = a[r]\n",
    "                    l += 1\n",
    "                while l < r and a[l] < p:\n",
    "                    l += 1\n",
    "                if l < r:\n",
    "                    a[r] = a[l]\n",
    "                    r -= 1\n",
    "            a[l] = p\n",
    "            self.quickSort(start, l - 1, a)\n",
    "            self.quickSort(l + 1, end, a)"
   ]
  }
 ],
 "metadata": {
  "kernelspec": {
   "display_name": "Python 3",
   "language": "python",
   "name": "python3"
  },
  "language_info": {
   "codemirror_mode": {
    "name": "ipython",
    "version": 3
   },
   "file_extension": ".py",
   "mimetype": "text/x-python",
   "name": "python",
   "nbconvert_exporter": "python",
   "pygments_lexer": "ipython3",
   "version": "3.7.1"
  }
 },
 "nbformat": 4,
 "nbformat_minor": 2
}
