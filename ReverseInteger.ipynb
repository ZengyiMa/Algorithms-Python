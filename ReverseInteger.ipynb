{
 "cells": [
  {
   "cell_type": "markdown",
   "metadata": {},
   "source": [
    "# Reverse Integer\n",
    "\n",
    "Given a 32-bit signed integer, reverse digits of an integer.\n",
    "\n",
    "```\n",
    "Example 1:\n",
    "\n",
    "Input: 123\n",
    "Output: 321\n",
    "Example 2:\n",
    "\n",
    "Input: -123\n",
    "Output: -321\n",
    "Example 3:\n",
    "\n",
    "Input: 120\n",
    "Output: 21\n",
    "Note:\n",
    "Assume we are dealing with an environment which could only store integers within the 32-bit signed integer range: [−231,  231 − 1]. For the purpose of this problem, assume that your function returns 0 when the reversed integer overflows.\n",
    "```\n",
    "[Reverse Integer](https://leetcode.com/problems/reverse-integer/)\n"
   ]
  },
  {
   "cell_type": "code",
   "execution_count": null,
   "metadata": {},
   "outputs": [],
   "source": [
    "class Solution:\n",
    "    def reverse(self, x: 'int') -> 'int':\n",
    "        numList = []\n",
    "        value = x\n",
    "        notZero = True\n",
    "        if x < 0:\n",
    "            value = -1 * value\n",
    "        while value != 0:\n",
    "            n = value % 10\n",
    "            if n == 0 and notZero == True:\n",
    "                pass\n",
    "            else:\n",
    "                notZero = False\n",
    "                numList.append(value % 10)\n",
    "            value = value // 10\n",
    "        result = 0\n",
    "        numLen = len(numList)\n",
    "        for i in range(0, numLen):\n",
    "            result += numList[i] * (10 ** (numLen - 1 - i))\n",
    "        if result >= (1<<31) - 1 or result <= -(1<<31):\n",
    "            return 0\n",
    "        if x < 0:\n",
    "            return -1 * result\n",
    "        else:\n",
    "            return result"
   ]
  }
 ],
 "metadata": {
  "kernelspec": {
   "display_name": "Python 3",
   "language": "python",
   "name": "python3"
  },
  "language_info": {
   "codemirror_mode": {
    "name": "ipython",
    "version": 3
   },
   "file_extension": ".py",
   "mimetype": "text/x-python",
   "name": "python",
   "nbconvert_exporter": "python",
   "pygments_lexer": "ipython3",
   "version": "3.7.1"
  }
 },
 "nbformat": 4,
 "nbformat_minor": 2
}
