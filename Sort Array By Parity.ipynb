{
 "cells": [
  {
   "cell_type": "markdown",
   "metadata": {},
   "source": [
    "# Sort Array By Parity（奇偶数排序）\n",
    "Given an array A of non-negative integers, return an array consisting of all the even elements of A, followed by all the odd elements of A.\n",
    "\n",
    "You may return any answer array that satisfies this condition.\n",
    "\n",
    " \n",
    "\n",
    "Example 1:\n",
    "\n",
    "Input: [3,1,2,4]\n",
    "Output: [2,4,3,1]\n",
    "The outputs [4,2,3,1], [2,4,1,3], and [4,2,1,3] would also be accepted.\n",
    " \n",
    "\n",
    "Note:\n",
    "\n",
    "1 <= A.length <= 5000\n",
    "0 <= A[i] <= 5000\n",
    "\n",
    "\n",
    "[sort-array-by-parity](https://leetcode.com/problems/sort-array-by-parity/)\n"
   ]
  },
  {
   "cell_type": "code",
   "execution_count": null,
   "metadata": {},
   "outputs": [],
   "source": [
    "class Solution:\n",
    "    def sortArrayByParity(self, A):\n",
    "        \"\"\"\n",
    "        :type A: List[int]\n",
    "        :rtype: List[int]\n",
    "        \"\"\"\n",
    "        l = 0\n",
    "        r = len(A) - 1\n",
    "        while l <= r:\n",
    "            while l<= r and A[l] % 2 == 0:\n",
    "                # 左边是偶数\n",
    "                l += 1\n",
    "            while l<= r and A[r] % 2 == 1:\n",
    "                # 右边是奇数\n",
    "                r -= 1\n",
    "            if l <= r:\n",
    "                temp = A[l]\n",
    "                A[l] = A[r]\n",
    "                A[r] = temp\n",
    "        return A"
   ]
  }
 ],
 "metadata": {
  "kernelspec": {
   "display_name": "Python 3",
   "language": "python",
   "name": "python3"
  },
  "language_info": {
   "codemirror_mode": {
    "name": "ipython",
    "version": 3
   },
   "file_extension": ".py",
   "mimetype": "text/x-python",
   "name": "python",
   "nbconvert_exporter": "python",
   "pygments_lexer": "ipython3",
   "version": "3.7.1"
  }
 },
 "nbformat": 4,
 "nbformat_minor": 2
}
