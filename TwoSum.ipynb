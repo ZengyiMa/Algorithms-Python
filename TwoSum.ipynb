{
 "cells": [
  {
   "cell_type": "markdown",
   "metadata": {},
   "source": [
    "# Two Sum\n",
    "\n",
    "Given an array of integers, return indices of the two numbers such that they add up to a specific target.\n",
    "\n",
    "You may assume that each input would have exactly one solution, and you may not use the same element twice.\n",
    "\n",
    "```\n",
    "Example:\n",
    "\n",
    "Given nums = [2, 7, 11, 15], target = 9,\n",
    "\n",
    "Because nums[0] + nums[1] = 2 + 7 = 9,\n",
    "return [0, 1].\n",
    "```\n",
    "\n",
    "[Two Sum](https://leetcode.com/problems/two-sum/)\n"
   ]
  },
  {
   "cell_type": "code",
   "execution_count": null,
   "metadata": {},
   "outputs": [],
   "source": [
    "class Solution:\n",
    "    def twoSum(self, nums: 'List[int]', target: 'int') -> 'List[int]':\n",
    "        picked = set()\n",
    "        numMap = {}\n",
    "        result = []\n",
    "        for (index, value) in enumerate(nums):\n",
    "            if value in numMap.keys():\n",
    "                if value * 2 == target:\n",
    "                    result.append(index)\n",
    "                    result.append(numMap[value])\n",
    "            else:\n",
    "                numMap[value] = index\n",
    "        for num in nums:\n",
    "            n = target - num\n",
    "            if num in picked or n == num:\n",
    "                continue\n",
    "            if n in numMap.keys():\n",
    "                result.append(numMap[num])\n",
    "                result.append(numMap[n])\n",
    "                picked.add(n)\n",
    "                picked.add(num)\n",
    "        return result"
   ]
  }
 ],
 "metadata": {
  "kernelspec": {
   "display_name": "Python 3",
   "language": "python",
   "name": "python3"
  },
  "language_info": {
   "codemirror_mode": {
    "name": "ipython",
    "version": 3
   },
   "file_extension": ".py",
   "mimetype": "text/x-python",
   "name": "python",
   "nbconvert_exporter": "python",
   "pygments_lexer": "ipython3",
   "version": "3.7.1"
  }
 },
 "nbformat": 4,
 "nbformat_minor": 2
}
