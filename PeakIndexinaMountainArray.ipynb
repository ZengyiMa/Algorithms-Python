{
 "cells": [
  {
   "cell_type": "markdown",
   "metadata": {},
   "source": [
    "# Peak Index in a Mountain Array\n",
    "\n",
    "Let's call an array A a mountain if the following properties hold:\n",
    "\n",
    "A.length >= 3\n",
    "There exists some 0 < i < A.length - 1 such that A[0] < A[1] < ... A[i-1] < A[i] > A[i+1] > ... > A[A.length - 1]\n",
    "Given an array that is definitely a mountain, return any i such that A[0] < A[1] < ... A[i-1] < A[i] > A[i+1] > ... > A[A.length - 1].\n",
    "\n",
    "Example 1:\n",
    "\n",
    "Input: [0,1,0]\n",
    "Output: 1\n",
    "Example 2:\n",
    "\n",
    "Input: [0,2,1,0]\n",
    "Output: 1\n",
    "Note:\n",
    "\n",
    "3 <= A.length <= 10000\n",
    "0 <= A[i] <= 10^6\n",
    "A is a mountain, as defined above.\n",
    "\n",
    "[Peak Index in a Mountain Array](https://leetcode.com/problems/peak-index-in-a-mountain-array/)\n"
   ]
  },
  {
   "cell_type": "code",
   "execution_count": 1,
   "metadata": {},
   "outputs": [],
   "source": [
    "# 解法一\n",
    "class Solution:\n",
    "    def peakIndexInMountainArray(self, A):\n",
    "        \"\"\"\n",
    "        :type A: List[int]\n",
    "        :rtype: int\n",
    "        \"\"\"\n",
    "        left = 0\n",
    "        right = len(A) - 1\n",
    "        while left <= right:\n",
    "            mid = (left + right) // 2\n",
    "            if A[mid - 1] <  A[mid] and A[mid] > A[mid+1]:\n",
    "                return mid\n",
    "            elif A[mid] < A[mid + 1]:\n",
    "                left = mid\n",
    "            else:\n",
    "                right = mid        "
   ]
  },
  {
   "cell_type": "code",
   "execution_count": 2,
   "metadata": {},
   "outputs": [],
   "source": [
    "# 解法二\n",
    "class Solution:\n",
    "    def peakIndexInMountainArray(self, A):\n",
    "        \"\"\"\n",
    "        :type A: List[int]\n",
    "        :rtype: int\n",
    "        \"\"\"\n",
    "        return A.index(max(A))"
   ]
  }
 ],
 "metadata": {
  "kernelspec": {
   "display_name": "Python 3",
   "language": "python",
   "name": "python3"
  },
  "language_info": {
   "codemirror_mode": {
    "name": "ipython",
    "version": 3
   },
   "file_extension": ".py",
   "mimetype": "text/x-python",
   "name": "python",
   "nbconvert_exporter": "python",
   "pygments_lexer": "ipython3",
   "version": "3.7.1"
  }
 },
 "nbformat": 4,
 "nbformat_minor": 2
}
